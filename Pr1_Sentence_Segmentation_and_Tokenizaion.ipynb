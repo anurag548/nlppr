{
  "nbformat": 4,
  "nbformat_minor": 0,
  "metadata": {
    "colab": {
      "provenance": []
    },
    "kernelspec": {
      "name": "python3",
      "display_name": "Python 3"
    },
    "language_info": {
      "name": "python"
    }
  },
  "cells": [
    {
      "cell_type": "code",
      "execution_count": null,
      "metadata": {
        "id": "fQRryG0LP12R"
      },
      "outputs": [],
      "source": [
        "import nltk\n"
      ]
    },
    {
      "cell_type": "code",
      "source": [
        "nltk.download('punkt')"
      ],
      "metadata": {
        "colab": {
          "base_uri": "https://localhost:8080/"
        },
        "id": "_MTxsEr3Wk2k",
        "outputId": "cc121578-eb20-42fe-debe-04fa7d96dea9"
      },
      "execution_count": null,
      "outputs": [
        {
          "output_type": "stream",
          "name": "stderr",
          "text": [
            "[nltk_data] Downloading package punkt to /root/nltk_data...\n",
            "[nltk_data]   Unzipping tokenizers/punkt.zip.\n"
          ]
        },
        {
          "output_type": "execute_result",
          "data": {
            "text/plain": [
              "True"
            ]
          },
          "metadata": {},
          "execution_count": 2
        }
      ]
    },
    {
      "cell_type": "code",
      "source": [
        "from nltk.tokenize import sent_tokenize"
      ],
      "metadata": {
        "id": "gQ9skgnNV3D_"
      },
      "execution_count": null,
      "outputs": []
    },
    {
      "cell_type": "code",
      "source": [
        "text='Paragraphs are the building blocks of papers. Many students define paragraphs in terms of length: a paragraph is a group of at least five sentences, a paragraph is half a page long, etc. In reality, though, the unity and coherence of ideas among sentences is what constitutes a paragraph.'\n",
        "sent_tokenize(text)"
      ],
      "metadata": {
        "colab": {
          "base_uri": "https://localhost:8080/"
        },
        "id": "tKZ8xAFJWEyN",
        "outputId": "b5af7cbc-3ded-48d2-fd48-7b4e4b75a876"
      },
      "execution_count": null,
      "outputs": [
        {
          "output_type": "execute_result",
          "data": {
            "text/plain": [
              "['Paragraphs are the building blocks of papers.',\n",
              " 'Many students define paragraphs in terms of length: a paragraph is a group of at least five sentences, a paragraph is half a page long, etc.',\n",
              " 'In reality, though, the unity and coherence of ideas among sentences is what constitutes a paragraph.']"
            ]
          },
          "metadata": {},
          "execution_count": 4
        }
      ]
    },
    {
      "cell_type": "code",
      "source": [
        "import nltk.data\n",
        "\n",
        "tokenizer=nltk.data.load('tokenizers/punkt/spanish.pickle')\n",
        "text='Los párrafos son los componentes básicos de los documentos. Muchos estudiantes definen los párrafos en términos de longitud: un párrafo es un grupo de al menos cinco oraciones, un párrafo tiene media página, etc. En realidad, sin embargo, la unidad y coherencia de ideas entre oraciones es lo que constituye un párrafo'\n",
        "tokenizer.tokenize(text)"
      ],
      "metadata": {
        "colab": {
          "base_uri": "https://localhost:8080/"
        },
        "id": "U-FA2hm-YosC",
        "outputId": "217686c6-db14-4bca-fe14-d277e33e9cc6"
      },
      "execution_count": null,
      "outputs": [
        {
          "output_type": "execute_result",
          "data": {
            "text/plain": [
              "['Los párrafos son los componentes básicos de los documentos.',\n",
              " 'Muchos estudiantes definen los párrafos en términos de longitud: un párrafo es un grupo de al menos cinco oraciones, un párrafo tiene media página, etc.',\n",
              " 'En realidad, sin embargo, la unidad y coherencia de ideas entre oraciones es lo que constituye un párrafo']"
            ]
          },
          "metadata": {},
          "execution_count": 5
        }
      ]
    },
    {
      "cell_type": "code",
      "source": [
        "from nltk.tokenize import word_tokenize\n",
        "\n",
        "text=\"navi mumbai army officers were sentenced to life imprisonment\"\n",
        "word_tokenize(text)"
      ],
      "metadata": {
        "colab": {
          "base_uri": "https://localhost:8080/"
        },
        "id": "SpmpSbZdcpTL",
        "outputId": "467ceaa2-e42c-4bc3-b676-412fe2b4c5e4"
      },
      "execution_count": null,
      "outputs": [
        {
          "output_type": "execute_result",
          "data": {
            "text/plain": [
              "['navi',\n",
              " 'mumbai',\n",
              " 'army',\n",
              " 'officers',\n",
              " 'were',\n",
              " 'sentenced',\n",
              " 'to',\n",
              " 'life',\n",
              " 'imprisonment']"
            ]
          },
          "metadata": {},
          "execution_count": 6
        }
      ]
    }
  ]
}