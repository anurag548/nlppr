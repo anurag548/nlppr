{
  "nbformat": 4,
  "nbformat_minor": 0,
  "metadata": {
    "colab": {
      "provenance": []
    },
    "kernelspec": {
      "name": "python3",
      "display_name": "Python 3"
    },
    "language_info": {
      "name": "python"
    }
  },
  "cells": [
    {
      "cell_type": "code",
      "execution_count": 1,
      "metadata": {
        "colab": {
          "base_uri": "https://localhost:8080/"
        },
        "id": "qPkY7rG8Xdlh",
        "outputId": "30c6f29d-e2f2-4fb9-bdb8-0afc4bde8315"
      },
      "outputs": [
        {
          "output_type": "stream",
          "name": "stdout",
          "text": [
            "wait\n",
            "wait\n",
            "wait\n",
            "wait\n"
          ]
        }
      ],
      "source": [
        "#stemming\n",
        "\n",
        "from nltk.stem import PorterStemmer\n",
        "e_words=[\"wait\",\"waiting\",\"waited\",\"waits\"]\n",
        "ps=PorterStemmer()\n",
        "for w in e_words:\n",
        "  rootWord=ps.stem(w)\n",
        "  print(rootWord)"
      ]
    },
    {
      "cell_type": "code",
      "source": [
        "from nltk.stem import PorterStemmer\n",
        "e_words=[\"study\",\"studying\",\"studied\",\"studies\"]\n",
        "ps=PorterStemmer()\n",
        "for w in e_words:\n",
        "  rootWord=ps.stem(w)\n",
        "  print(rootWord)\n"
      ],
      "metadata": {
        "colab": {
          "base_uri": "https://localhost:8080/"
        },
        "id": "Zm7xFeEhYZEQ",
        "outputId": "04095397-b085-43bd-97e2-a8e126e45b45"
      },
      "execution_count": 3,
      "outputs": [
        {
          "output_type": "stream",
          "name": "stdout",
          "text": [
            "studi\n",
            "studi\n",
            "studi\n",
            "studi\n"
          ]
        }
      ]
    },
    {
      "cell_type": "code",
      "source": [
        "import nltk\n",
        "nltk.download('punkt')"
      ],
      "metadata": {
        "colab": {
          "base_uri": "https://localhost:8080/"
        },
        "id": "qrW-QdZlY7k1",
        "outputId": "df3416ad-7976-4453-f097-5cfa3b3e81b5"
      },
      "execution_count": 4,
      "outputs": [
        {
          "output_type": "stream",
          "name": "stderr",
          "text": [
            "[nltk_data] Downloading package punkt to /root/nltk_data...\n",
            "[nltk_data]   Unzipping tokenizers/punkt.zip.\n"
          ]
        },
        {
          "output_type": "execute_result",
          "data": {
            "text/plain": [
              "True"
            ]
          },
          "metadata": {},
          "execution_count": 4
        }
      ]
    },
    {
      "cell_type": "code",
      "source": [
        "#Sentence Tokenization and Stemming:\n",
        "\n",
        "text=\"if studies studying are studied study\"\n",
        "tokenization=nltk.word_tokenize(text)\n",
        "for w in tokenization:\n",
        "  print(\"Stemming for {} is {}\".format(w,ps.stem(w)))"
      ],
      "metadata": {
        "colab": {
          "base_uri": "https://localhost:8080/"
        },
        "id": "sSi8LDKBZCD_",
        "outputId": "0d051626-b186-49cb-cef8-100d23dc4277"
      },
      "execution_count": 5,
      "outputs": [
        {
          "output_type": "stream",
          "name": "stdout",
          "text": [
            "Stemming for if is if\n",
            "Stemming for studies is studi\n",
            "Stemming for studying is studi\n",
            "Stemming for are is are\n",
            "Stemming for studied is studi\n",
            "Stemming for study is studi\n"
          ]
        }
      ]
    },
    {
      "cell_type": "code",
      "source": [
        "nltk.download('wordnet')\n",
        "nltk.download('omw-1.4')"
      ],
      "metadata": {
        "colab": {
          "base_uri": "https://localhost:8080/"
        },
        "id": "y-Qv3jidZa5m",
        "outputId": "a5cd4702-dec8-4b8f-db6e-fcf256586cfc"
      },
      "execution_count": 6,
      "outputs": [
        {
          "output_type": "stream",
          "name": "stderr",
          "text": [
            "[nltk_data] Downloading package wordnet to /root/nltk_data...\n",
            "[nltk_data] Downloading package omw-1.4 to /root/nltk_data...\n"
          ]
        },
        {
          "output_type": "execute_result",
          "data": {
            "text/plain": [
              "True"
            ]
          },
          "metadata": {},
          "execution_count": 6
        }
      ]
    },
    {
      "cell_type": "code",
      "source": [
        "#Lemmatization:\n",
        "\n",
        "text=\"if studies studying are studied study\"\n",
        "tokenization=nltk.word_tokenize(text)\n",
        "from nltk.stem import WordNetLemmatizer\n",
        "WNL=WordNetLemmatizer()\n",
        "for w in tokenization:\n",
        "  print(\"lemmatization for {} is {}\".format(w,WNL.lemmatize(w,pos=\"v\")))"
      ],
      "metadata": {
        "colab": {
          "base_uri": "https://localhost:8080/"
        },
        "id": "ZOK_CrDSZrr1",
        "outputId": "9634feda-b401-448d-e8db-edfaf51ba7d6"
      },
      "execution_count": 7,
      "outputs": [
        {
          "output_type": "stream",
          "name": "stdout",
          "text": [
            "lemmatization for if is if\n",
            "lemmatization for studies is study\n",
            "lemmatization for studying is study\n",
            "lemmatization for are is be\n",
            "lemmatization for studied is study\n",
            "lemmatization for study is study\n"
          ]
        }
      ]
    }
  ]
}